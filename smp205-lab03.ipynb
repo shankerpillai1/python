{
 "cells": [
  {
   "cell_type": "markdown",
   "metadata": {},
   "source": [
    "Exercise 1\n",
    "\n",
    "The def keyword signals the beginning of the writing of a function. It says that the following code shouldn't be run but should be stored in the memory to be run when called."
   ]
  },
  {
   "cell_type": "markdown",
   "metadata": {},
   "source": [
    "Exercise 2\n",
    "\n",
    "1. input() , argument is the prompt the developer wants to ask the user, the result is the users response stored in the corresponding variable\n",
    "2. type(), argument is any object and the result is the displaying of a type object that says what type the object in the argument is\n",
    "3. int() and float()- argument is another number and result is conversion to either an int or float\n",
    "\n",
    "enumerate() takes a list as an argument and indexes them to create a tuple"
   ]
  },
  {
   "cell_type": "markdown",
   "metadata": {},
   "source": [
    "Exercise 3\n",
    "\n",
    "I predict that the output will be Foo Bar Foo Foo Bar\n",
    "After running it on the exercises page, I can conclude that I am correct"
   ]
  },
  {
   "cell_type": "markdown",
   "metadata": {},
   "source": [
    "Exercise 4"
   ]
  },
  {
   "cell_type": "code",
   "execution_count": 2,
   "metadata": {},
   "outputs": [
    {
     "name": "stdin",
     "output_type": "stream",
     "text": [
      "How many integers do you want? 3\n",
      "enter a lower bound 10\n",
      "enter an upper bound 15\n"
     ]
    },
    {
     "name": "stdout",
     "output_type": "stream",
     "text": [
      "10\n",
      "13\n",
      "14\n"
     ]
    }
   ],
   "source": [
    "import random\n",
    "num=int(input('How many integers do you want?'))\n",
    "lowb=int(input('enter a lower bound'))\n",
    "upb=int(input('enter an upper bound'))\n",
    "\n",
    "while num>0:\n",
    "    print(random.randint(lowb, upb))\n",
    "    num=num-1\n"
   ]
  },
  {
   "cell_type": "markdown",
   "metadata": {},
   "source": [
    "Exercise 5"
   ]
  },
  {
   "cell_type": "code",
   "execution_count": 4,
   "metadata": {},
   "outputs": [
    {
     "name": "stdout",
     "output_type": "stream",
     "text": [
      "Happy fall, Bob\n",
      "Happy fall, bob2\n",
      "Happy fall, bob3\n",
      "Happy fall, bob4\n"
     ]
    }
   ],
   "source": [
    "my_friends = [\"Bob\", \"bob2\", \"bob3\", \"bob4\"]\n",
    "for x in my_friends:\n",
    "    print(\"Happy fall,\", x)"
   ]
  },
  {
   "cell_type": "markdown",
   "metadata": {},
   "source": [
    "Exercise 6"
   ]
  },
  {
   "cell_type": "code",
   "execution_count": null,
   "metadata": {},
   "outputs": [],
   "source": []
  },
  {
   "cell_type": "code",
   "execution_count": 11,
   "metadata": {},
   "outputs": [
    {
     "name": "stdin",
     "output_type": "stream",
     "text": [
      "Enter an integer 4\n",
      "Enter an integer 5\n",
      "Enter an integer 6\n",
      "Enter an integer i\n"
     ]
    },
    {
     "name": "stdout",
     "output_type": "stream",
     "text": [
      "5.0\n"
     ]
    }
   ],
   "source": [
    "x=0\n",
    "ifint=True\n",
    "total=0.0\n",
    "num=0\n",
    "\n",
    "while ifint:\n",
    "    total=total+x\n",
    "    x=input('Enter an integer')\n",
    "    \n",
    "    if x.isnumeric():\n",
    "        num=num+1\n",
    "        x=int(x)\n",
    "    else:\n",
    "        ifint=False\n",
    "\n",
    "print(total/num)       "
   ]
  },
  {
   "cell_type": "markdown",
   "metadata": {},
   "source": [
    "Exercise 7"
   ]
  },
  {
   "cell_type": "code",
   "execution_count": 14,
   "metadata": {},
   "outputs": [
    {
     "name": "stdin",
     "output_type": "stream",
     "text": [
      "Enter a word apple\n"
     ]
    },
    {
     "name": "stdout",
     "output_type": "stream",
     "text": [
      "apple has 2 vowels and 3 consonants\n"
     ]
    }
   ],
   "source": [
    "vow=0\n",
    "cons=0\n",
    "x=input('Enter a word')\n",
    "x=x.lower()\n",
    "for char in x:\n",
    "    if char=='a' or char=='e' or char=='i' or char=='o' or char=='u' or char=='y':\n",
    "        vow=vow+1\n",
    "    else:\n",
    "        cons=cons+1\n",
    "print(x,\"has\", vow, \"vowels and\", cons,\"consonants\")"
   ]
  },
  {
   "cell_type": "markdown",
   "metadata": {},
   "source": [
    "Exercise 8"
   ]
  },
  {
   "cell_type": "code",
   "execution_count": 17,
   "metadata": {},
   "outputs": [
    {
     "name": "stdout",
     "output_type": "stream",
     "text": [
      "Apple\n",
      "False\n",
      "True\n"
     ]
    }
   ],
   "source": [
    "x=\"apple\"\n",
    "#this method will print a copy of the string with its first character capitalized#\n",
    "print(x.capitalize())\n",
    "#this method will will check if the string is a decimal number and return a boolean accordingly#\n",
    "print(x.isdecimal())\n",
    "#this method will check if all characters in string are lowercase and return a boolean accordingly#\n",
    "print(x.islower())"
   ]
  },
  {
   "cell_type": "markdown",
   "metadata": {},
   "source": [
    "Exercise 9"
   ]
  },
  {
   "cell_type": "code",
   "execution_count": 19,
   "metadata": {},
   "outputs": [
    {
     "name": "stdout",
     "output_type": "stream",
     "text": [
      "84.75 %\n"
     ]
    }
   ],
   "source": [
    "spam_string = 'X-DSPAM-Confidence: 0.8475 '\n",
    "x=spam_string[20:26]\n",
    "x=float(x)\n",
    "x=x*100\n",
    "print(x,\"%\")"
   ]
  },
  {
   "cell_type": "code",
   "execution_count": null,
   "metadata": {},
   "outputs": [],
   "source": []
  }
 ],
 "metadata": {
  "kernelspec": {
   "display_name": "Python 3",
   "language": "python",
   "name": "python3"
  },
  "language_info": {
   "codemirror_mode": {
    "name": "ipython",
    "version": 3
   },
   "file_extension": ".py",
   "mimetype": "text/x-python",
   "name": "python",
   "nbconvert_exporter": "python",
   "pygments_lexer": "ipython3",
   "version": "3.8.3"
  }
 },
 "nbformat": 4,
 "nbformat_minor": 4
}
