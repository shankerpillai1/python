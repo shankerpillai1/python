{
 "cells": [
  {
   "cell_type": "code",
   "execution_count": 1,
   "metadata": {},
   "outputs": [
    {
     "name": "stdout",
     "output_type": "stream",
     "text": [
      "<class 'int'>\n",
      "<class 'str'>\n",
      "<class 'float'>\n",
      "<class 'str'>\n",
      "<class 'str'>\n",
      "<class 'str'>\n",
      "<class 'float'>\n",
      "<class 'str'>\n",
      "<class 'bool'>\n",
      "<class 'bool'>\n",
      "<class 'str'>\n"
     ]
    }
   ],
   "source": [
    "print(type(184))\n",
    "print(type('The quick brown fox jumps over the lazy dog.'))\n",
    "print(type(63.0))\n",
    "print(type('October 1917'))\n",
    "print(type('1776'))\n",
    "print(type('83.4'))\n",
    "print(type(83.4))\n",
    "print(type('six'))\n",
    "print(type(True))\n",
    "print(type(False))\n",
    "print(type(\"Type\"))"
   ]
  },
  {
   "cell_type": "markdown",
   "metadata": {},
   "source": [
    "Exercise 1\n",
    "1. Int\n",
    "2. String\n",
    "3. Float\n",
    "4. String\n",
    "5. String\n",
    "6. String\n",
    "7. Float\n",
    "8. String\n",
    "9. Boolean\n",
    "10. Boolean\n",
    "11. String"
   ]
  },
  {
   "cell_type": "markdown",
   "metadata": {},
   "source": [
    "Exercise 2:\n",
    "1. yes\n",
    "2. yes\n",
    "3. no, starts with number\n",
    "4. yes, but against conventions to use special characters\n",
    "5. yes\n",
    "6. no, keyword\n",
    "7. no, keyword\n",
    "8. yes"
   ]
  },
  {
   "cell_type": "markdown",
   "metadata": {},
   "source": [
    "Exercise 3:\n",
    "\n",
    "| Problem   | Expected   | Actual|\n",
    "| ----------|:----------:| -----:|\n",
    "| 25+75     | 100        | 100   |\n",
    "| 52-8      | 44         | 44    |\n",
    "| 20 * 5    | 100        | 100   |\n",
    "| 55+9      | 64         | 64    |\n",
    "| 55.0+9    | 64.0       | 64.0  |\n",
    "| 55.0+9.0  | 64.0       | 64.0  |\n",
    "| 18.5-2    | 16.5       | 16.5  |\n",
    "| 61.2-3.2  | 58.0       | 58.0  |\n",
    "| 5+15+20   | 40         | 40    |\n",
    "| 8 * 20.0  | 160.0      | 160.0 |\n",
    "| 50/2      | 25         | 25.0  |\n",
    "| 50/2.0    | 25.0       | 25.0  |\n",
    "| 50//2.0   | 25.0       | 25.0  |\n",
    "| 50//2     | 25         | 25    |\n",
    "| 2 ** 2    | 4          | 4     |\n",
    "| 4 ** 0.5  | 2          | 2.0   |\n",
    "| 2** 2** 2 | 8          | 16    |\n",
    "| 5==5      | True       | True  |\n",
    "| 6==5      | False      | False |\n",
    "| 8!=9      | True       | True  |\n",
    "| 42.0>30   | True       | True  |\n",
    "| 800<=800  | True       | True  |"
   ]
  },
  {
   "cell_type": "markdown",
   "metadata": {},
   "source": [
    "Conclusions:\n",
    "1. If one number uses a decimal, the answer will also appear in float/decimal form.\n",
    "2. Division is naturally in float form but will return an int if two / are used.\n",
    "3. Using ** will be exponential \n",
    "4. Comparative operators such as == or >= will return booleans"
   ]
  },
  {
   "cell_type": "code",
   "execution_count": 30,
   "metadata": {},
   "outputs": [
    {
     "name": "stdin",
     "output_type": "stream",
     "text": [
      "How many hours do you work? 10\n",
      "What is your hourly wage? 10\n",
      "what percent of your income do you pay in taxes 10\n"
     ]
    },
    {
     "name": "stdout",
     "output_type": "stream",
     "text": [
      "gross pay: 100.0\n",
      "net pay: 90.0\n"
     ]
    }
   ],
   "source": [
    "hours=int(input('How many hours do you work?'))\n",
    "wage=int(input('What is your hourly wage?'))\n",
    "taxpercent=float(input('what percent of your income do you pay in taxes'))\n",
    "grosspay=float(hours*wage)\n",
    "netpay=grosspay-(grosspay*(taxpercent/100.0))\n",
    "print('gross pay:', grosspay)\n",
    "print('net pay:', netpay)"
   ]
  },
  {
   "cell_type": "markdown",
   "metadata": {},
   "source": [
    "Exercise 5:\n",
    "1. width//9: 4, as it should cut off decimal\n",
    "2. width/9.0: 4.6666666\n",
    "3. length/3: 6.666666\n",
    "4. 1+4* length: 81"
   ]
  },
  {
   "cell_type": "code",
   "execution_count": 31,
   "metadata": {},
   "outputs": [
    {
     "name": "stdout",
     "output_type": "stream",
     "text": [
      "4.0\n",
      "4.666666666666667\n",
      "6.666666666666667\n",
      "81\n"
     ]
    }
   ],
   "source": [
    "length=20\n",
    "width=42.0\n",
    "print(width//9)\n",
    "print(width/9.0)\n",
    "print(length/3)\n",
    "print(1+4*length)"
   ]
  },
  {
   "cell_type": "markdown",
   "metadata": {},
   "source": [
    "I was correct on all but 1, where I was mostly correct but a .0 still remained."
   ]
  },
  {
   "cell_type": "markdown",
   "metadata": {},
   "source": [
    "Exercise 6:"
   ]
  },
  {
   "cell_type": "code",
   "execution_count": 33,
   "metadata": {},
   "outputs": [
    {
     "name": "stdin",
     "output_type": "stream",
     "text": [
      "Enter a temperature 32\n",
      "enter one if fahrenheit, 0 if celsius 1\n"
     ]
    },
    {
     "name": "stdout",
     "output_type": "stream",
     "text": [
      "The converted temperature is 0.0\n"
     ]
    }
   ],
   "source": [
    "temp=float(input('Enter a temperature'))\n",
    "isF=int(input('enter one if fahrenheit, 0 if celsius'))\n",
    "if isF==1:\n",
    "    conv=(temp-32)*(5.0/9)\n",
    "if isF==0:\n",
    "    conv=(temp*(9.0/5))+32\n",
    "print('The converted temperature is', conv)"
   ]
  },
  {
   "cell_type": "markdown",
   "metadata": {},
   "source": [
    "Exercise 7:"
   ]
  },
  {
   "cell_type": "code",
   "execution_count": 38,
   "metadata": {},
   "outputs": [
    {
     "name": "stdin",
     "output_type": "stream",
     "text": [
      "enter an integer 5\n"
     ]
    },
    {
     "name": "stdout",
     "output_type": "stream",
     "text": [
      "The number is odd\n"
     ]
    }
   ],
   "source": [
    "num=int(input('enter an integer'))\n",
    "num2=num%2\n",
    "if num2==0.0:\n",
    "    print('The number is even')\n",
    "else :\n",
    "    print('The number is odd')\n"
   ]
  },
  {
   "cell_type": "markdown",
   "metadata": {},
   "source": [
    "Exercise 8:"
   ]
  },
  {
   "cell_type": "code",
   "execution_count": 40,
   "metadata": {},
   "outputs": [
    {
     "name": "stdin",
     "output_type": "stream",
     "text": [
      "enter a number 10\n",
      "enter another number 11\n"
     ]
    },
    {
     "name": "stdout",
     "output_type": "stream",
     "text": [
      "10 is less than 11\n"
     ]
    }
   ],
   "source": [
    "num1=int(input('enter a number'))\n",
    "num2=int(input('enter another number'))\n",
    "if num1==num2:\n",
    "    print(num1,'and',num2, 'are equal')\n",
    "if num1>num2:\n",
    "    print(num1, 'is greater than', num2)\n",
    "else:\n",
    "    print(num1, 'is less than',num2)"
   ]
  },
  {
   "cell_type": "markdown",
   "metadata": {},
   "source": [
    "Exercise 9:"
   ]
  },
  {
   "cell_type": "code",
   "execution_count": 46,
   "metadata": {},
   "outputs": [
    {
     "name": "stdin",
     "output_type": "stream",
     "text": [
      "enter an integer nine\n",
      "please enter an integer 9\n"
     ]
    },
    {
     "name": "stdout",
     "output_type": "stream",
     "text": [
      "The number is odd\n"
     ]
    }
   ],
   "source": [
    "num=input('enter an integer')\n",
    "try:\n",
    "    num=int(num)\n",
    "except:\n",
    "    num=int(input('please enter an integer'))\n",
    "num2=num%2\n",
    "if num2==0.0:\n",
    "    print('The number is even')\n",
    "else :\n",
    "    print('The number is odd')"
   ]
  },
  {
   "cell_type": "code",
   "execution_count": 48,
   "metadata": {},
   "outputs": [
    {
     "name": "stdin",
     "output_type": "stream",
     "text": [
      "Enter the score 68\n"
     ]
    },
    {
     "name": "stdout",
     "output_type": "stream",
     "text": [
      "D\n"
     ]
    }
   ],
   "source": [
    "num=input('Enter the score')\n",
    "try:\n",
    "    num=float(num)\n",
    "except:\n",
    "    num=float(input('please enter a valid score'))\n",
    "if num>=94:\n",
    "    print('A')\n",
    "elif num>=85:\n",
    "    print('B')\n",
    "elif num>=74:\n",
    "    print('C')\n",
    "elif num>=63:\n",
    "    print('D')\n",
    "else:\n",
    "    print('F')"
   ]
  },
  {
   "cell_type": "markdown",
   "metadata": {},
   "source": [
    "Exercise 11:"
   ]
  },
  {
   "cell_type": "code",
   "execution_count": 54,
   "metadata": {},
   "outputs": [
    {
     "name": "stdin",
     "output_type": "stream",
     "text": [
      "What is your name? Shanker\n",
      "How old are you? 18\n"
     ]
    },
    {
     "name": "stdout",
     "output_type": "stream",
     "text": [
      "Hello, Shanker! You are 18 years old.\n"
     ]
    }
   ],
   "source": [
    "p1=\"What is your name?\"\n",
    "name=input(prompt=p1)\n",
    "p2=\"Hello, \"+name+\"!\"\n",
    "age=input(\"How old are you?\")\n",
    "p2=p2+\" You are \"+age+\" years old.\"\n",
    "print(p2)"
   ]
  },
  {
   "cell_type": "markdown",
   "metadata": {},
   "source": [
    "Overall, I felt that this lab was useful in learning python. I learned many useful commands. One criticism I have is that it was too long and felt tedious at times, and some of the exercises weren't necessary. I found it to be pretty adequately difficult."
   ]
  },
  {
   "cell_type": "code",
   "execution_count": null,
   "metadata": {},
   "outputs": [],
   "source": []
  }
 ],
 "metadata": {
  "kernelspec": {
   "display_name": "Python 3",
   "language": "python",
   "name": "python3"
  },
  "language_info": {
   "codemirror_mode": {
    "name": "ipython",
    "version": 3
   },
   "file_extension": ".py",
   "mimetype": "text/x-python",
   "name": "python",
   "nbconvert_exporter": "python",
   "pygments_lexer": "ipython3",
   "version": "3.8.3"
  }
 },
 "nbformat": 4,
 "nbformat_minor": 4
}
